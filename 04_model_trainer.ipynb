{
 "cells": [
  {
   "cell_type": "code",
   "execution_count": 1,
   "id": "initial_id",
   "metadata": {
    "collapsed": true,
    "ExecuteTime": {
     "end_time": "2023-08-12T19:06:10.446199700Z",
     "start_time": "2023-08-12T19:06:10.401096300Z"
    }
   },
   "outputs": [],
   "source": [
    "import os"
   ]
  },
  {
   "cell_type": "code",
   "execution_count": 2,
   "outputs": [
    {
     "data": {
      "text/plain": "'D:\\\\Python\\\\MLProjectsPW\\\\CreditCardFraud1\\\\research'"
     },
     "execution_count": 2,
     "metadata": {},
     "output_type": "execute_result"
    }
   ],
   "source": [
    "%pwd"
   ],
   "metadata": {
    "collapsed": false,
    "ExecuteTime": {
     "end_time": "2023-08-12T19:06:10.472005500Z",
     "start_time": "2023-08-12T19:06:10.432354900Z"
    }
   },
   "id": "961c118981f3a0ba"
  },
  {
   "cell_type": "code",
   "execution_count": 3,
   "outputs": [],
   "source": [
    "os.chdir('../')"
   ],
   "metadata": {
    "collapsed": false,
    "ExecuteTime": {
     "end_time": "2023-08-12T19:06:10.472005500Z",
     "start_time": "2023-08-12T19:06:10.461828900Z"
    }
   },
   "id": "dbb51be0440afe71"
  },
  {
   "cell_type": "code",
   "execution_count": 4,
   "outputs": [
    {
     "data": {
      "text/plain": "'D:\\\\Python\\\\MLProjectsPW\\\\CreditCardFraud1'"
     },
     "execution_count": 4,
     "metadata": {},
     "output_type": "execute_result"
    }
   ],
   "source": [
    "%pwd"
   ],
   "metadata": {
    "collapsed": false,
    "ExecuteTime": {
     "end_time": "2023-08-12T19:06:10.563668600Z",
     "start_time": "2023-08-12T19:06:10.472005500Z"
    }
   },
   "id": "e34dae092311a921"
  },
  {
   "cell_type": "code",
   "execution_count": 5,
   "outputs": [],
   "source": [
    "from dataclasses import dataclass\n",
    "from pathlib import Path\n",
    "\n",
    "@dataclass(frozen=True)\n",
    "class ModelTrainerConfig:\n",
    "    root_dir:Path\n",
    "    train_data_path:Path\n",
    "    test_data_path:Path\n",
    "    model_name: str\n",
    "    criterion: str\n",
    "    max_features: str\n",
    "    n_estimators: int"
   ],
   "metadata": {
    "collapsed": false,
    "ExecuteTime": {
     "end_time": "2023-08-12T19:06:10.563668600Z",
     "start_time": "2023-08-12T19:06:10.501147900Z"
    }
   },
   "id": "6167112934b00ec2"
  },
  {
   "cell_type": "code",
   "execution_count": 6,
   "outputs": [],
   "source": [
    "from CreditCardFraud.constants import *\n",
    "from CreditCardFraud.utils.common import read_yaml , create_directories"
   ],
   "metadata": {
    "collapsed": false,
    "ExecuteTime": {
     "end_time": "2023-08-12T19:06:11.478588200Z",
     "start_time": "2023-08-12T19:06:10.516777400Z"
    }
   },
   "id": "2074bd25742c7e99"
  },
  {
   "cell_type": "code",
   "execution_count": 7,
   "outputs": [],
   "source": [
    "class ConfigurationManager:\n",
    "    def __init__(\n",
    "        self,\n",
    "        config_filepath = CONFIG_FILE_PATH,\n",
    "        params_filepath = PARAMS_FILE_PATH):\n",
    "        self.config = read_yaml (config_filepath)\n",
    "        self.params = read_yaml (params_filepath)\n",
    "\n",
    "        create_directories([self.config.artifacts_root])\n",
    "        \n",
    "    def get_model_trainer_config(self) -> ModelTrainerConfig:\n",
    "        config = self.config.model_trainer\n",
    "        params = self.params.RandomForestClassifier\n",
    "        \n",
    "        create_directories([config.root_dir])\n",
    "        \n",
    "        model_trainer_config = ModelTrainerConfig(\n",
    "            root_dir= config.root_dir,\n",
    "            train_data_path=config.train_data_path,\n",
    "            test_data_path=config.test_data_path,\n",
    "            model_name=config.model_name,\n",
    "            criterion= params.criterion,\n",
    "            max_features=params.max_features,\n",
    "            n_estimators=params.n_estimators\n",
    "        )\n",
    "        \n",
    "        return model_trainer_config"
   ],
   "metadata": {
    "collapsed": false,
    "ExecuteTime": {
     "end_time": "2023-08-12T19:06:11.498708100Z",
     "start_time": "2023-08-12T19:06:11.486629100Z"
    }
   },
   "id": "bfd456357315da34"
  },
  {
   "cell_type": "code",
   "execution_count": 8,
   "outputs": [],
   "source": [
    "import pandas as pd\n",
    "from sklearn.ensemble import  RandomForestClassifier\n",
    "import joblib\n",
    "from sklearn.metrics import  accuracy_score , classification_report\n",
    "from CreditCardFraud.logging import logger"
   ],
   "metadata": {
    "collapsed": false,
    "ExecuteTime": {
     "end_time": "2023-08-12T19:06:12.309226300Z",
     "start_time": "2023-08-12T19:06:11.498708100Z"
    }
   },
   "id": "208f726d87498448"
  },
  {
   "cell_type": "code",
   "execution_count": 9,
   "outputs": [],
   "source": [
    "class ModelTrainer:\n",
    "    def __init__(self, config=ModelTrainerConfig):\n",
    "        self.config = config\n",
    "    def train(self):\n",
    "        train_data = pd.read_csv(self.config.train_data_path)\n",
    "        test_data = pd.read_csv(self.config.test_data_path)\n",
    "        target_column = train_data.columns[-1]\n",
    "\n",
    "        train_x = train_data.drop([target_column],axis=1)\n",
    "        test_x = test_data.drop([target_column],axis=1)\n",
    "        train_y = train_data[target_column]\n",
    "        test_y = test_data[target_column]\n",
    "\n",
    "        model = RandomForestClassifier(criterion=self.config.criterion, max_features=self.config.max_features, n_estimators=self.config.n_estimators,random_state=42)\n",
    "        model.fit(train_x,train_y)\n",
    "        \n",
    "        y_pred = model.predict(test_x)\n",
    "        \n",
    "        accuracy = accuracy_score(test_y, y_pred)\n",
    "        cr = classification_report(test_y,y_pred)\n",
    "        \n",
    "        logger.info(f\"\"\"The accuracy of {model} is {accuracy} \\n\\n\n",
    "        classification report is {cr}\"\"\")\n",
    "        \n",
    "\n",
    "        joblib.dump(model,os.path.join(self.config.root_dir, self.config.model_name))"
   ],
   "metadata": {
    "collapsed": false,
    "ExecuteTime": {
     "end_time": "2023-08-12T19:06:12.324852800Z",
     "start_time": "2023-08-12T19:06:12.309226300Z"
    }
   },
   "id": "6321878e36e3070d"
  },
  {
   "cell_type": "code",
   "execution_count": 10,
   "outputs": [
    {
     "name": "stdout",
     "output_type": "stream",
     "text": [
      "[2023-08-13 00:36:12,324: INFO: common: yaml file: config\\config.yaml loaded successfully]\n",
      "[2023-08-13 00:36:12,340: INFO: common: yaml file: params.yaml loaded successfully]\n",
      "[2023-08-13 00:36:12,340: INFO: common: creating directory at: artifacts]\n",
      "[2023-08-13 00:36:12,340: INFO: common: creating directory at: artifacts/model_trainer]\n",
      "[2023-08-13 00:36:13,056: INFO: 1381227063: The accuracy of RandomForestClassifier(max_features='log2', n_estimators=200, random_state=42) is 0.8007968127490039 \n",
      "\n",
      "\n",
      "        classification report is               precision    recall  f1-score   support\n",
      "\n",
      "         0.0       0.82      0.96      0.88       197\n",
      "         1.0       0.60      0.22      0.32        54\n",
      "\n",
      "    accuracy                           0.80       251\n",
      "   macro avg       0.71      0.59      0.60       251\n",
      "weighted avg       0.77      0.80      0.76       251\n",
      "]\n"
     ]
    }
   ],
   "source": [
    "try:\n",
    "    config = ConfigurationManager()\n",
    "    model_trainer_config = config.get_model_trainer_config()\n",
    "    model_trainer_config = ModelTrainer(config=model_trainer_config)\n",
    "    model_trainer_config.train()\n",
    "except Exception as e:\n",
    "    raise e"
   ],
   "metadata": {
    "collapsed": false,
    "ExecuteTime": {
     "end_time": "2023-08-12T19:06:13.197342800Z",
     "start_time": "2023-08-12T19:06:12.324852800Z"
    }
   },
   "id": "7bcfa0040f53e7b"
  },
  {
   "cell_type": "code",
   "execution_count": null,
   "outputs": [],
   "source": [],
   "metadata": {
    "collapsed": false
   },
   "id": "5d466857be21becf"
  }
 ],
 "metadata": {
  "kernelspec": {
   "display_name": "Python 3",
   "language": "python",
   "name": "python3"
  },
  "language_info": {
   "codemirror_mode": {
    "name": "ipython",
    "version": 2
   },
   "file_extension": ".py",
   "mimetype": "text/x-python",
   "name": "python",
   "nbconvert_exporter": "python",
   "pygments_lexer": "ipython2",
   "version": "2.7.6"
  }
 },
 "nbformat": 4,
 "nbformat_minor": 5
}
