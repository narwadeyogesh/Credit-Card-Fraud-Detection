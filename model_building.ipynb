{
 "cells": [
  {
   "cell_type": "code",
   "execution_count": 1,
   "metadata": {
    "ExecuteTime": {
     "end_time": "2023-08-08T13:36:07.933268Z",
     "start_time": "2023-08-08T13:36:07.869970100Z"
    }
   },
   "outputs": [],
   "source": [
    "import pandas as pd\n",
    "import numpy as np\n",
    "import seaborn as sns\n",
    "import warnings\n",
    "warnings.filterwarnings('ignore')\n",
    "import matplotlib.pyplot as plt\n",
    "%matplotlib inline\n",
    "plt.style.use(\"ggplot\")"
   ]
  },
  {
   "cell_type": "code",
   "execution_count": 2,
   "metadata": {
    "ExecuteTime": {
     "end_time": "2023-08-08T13:36:07.980379800Z",
     "start_time": "2023-08-08T13:36:07.941267Z"
    }
   },
   "outputs": [],
   "source": [
    "df = pd.read_csv(r'data/data.csv')"
   ]
  },
  {
   "cell_type": "code",
   "execution_count": 3,
   "metadata": {},
   "outputs": [],
   "source": [
    "df.drop('ID',axis=1,inplace=True)"
   ]
  },
  {
   "cell_type": "code",
   "execution_count": 4,
   "metadata": {
    "ExecuteTime": {
     "end_time": "2023-08-08T13:36:08.055665400Z",
     "start_time": "2023-08-08T13:36:07.988634300Z"
    }
   },
   "outputs": [
    {
     "data": {
      "text/html": [
       "<div>\n",
       "<style scoped>\n",
       "    .dataframe tbody tr th:only-of-type {\n",
       "        vertical-align: middle;\n",
       "    }\n",
       "\n",
       "    .dataframe tbody tr th {\n",
       "        vertical-align: top;\n",
       "    }\n",
       "\n",
       "    .dataframe thead th {\n",
       "        text-align: right;\n",
       "    }\n",
       "</style>\n",
       "<table border=\"1\" class=\"dataframe\">\n",
       "  <thead>\n",
       "    <tr style=\"text-align: right;\">\n",
       "      <th></th>\n",
       "      <th>LIMIT_BAL</th>\n",
       "      <th>SEX</th>\n",
       "      <th>EDUCATION</th>\n",
       "      <th>MARRIAGE</th>\n",
       "      <th>AGE</th>\n",
       "      <th>PAY_0</th>\n",
       "      <th>PAY_2</th>\n",
       "      <th>PAY_3</th>\n",
       "      <th>PAY_4</th>\n",
       "      <th>PAY_5</th>\n",
       "      <th>...</th>\n",
       "      <th>BILL_AMT4</th>\n",
       "      <th>BILL_AMT5</th>\n",
       "      <th>BILL_AMT6</th>\n",
       "      <th>PAY_AMT1</th>\n",
       "      <th>PAY_AMT2</th>\n",
       "      <th>PAY_AMT3</th>\n",
       "      <th>PAY_AMT4</th>\n",
       "      <th>PAY_AMT5</th>\n",
       "      <th>PAY_AMT6</th>\n",
       "      <th>default.payment.next.month</th>\n",
       "    </tr>\n",
       "  </thead>\n",
       "  <tbody>\n",
       "    <tr>\n",
       "      <th>0</th>\n",
       "      <td>20000.0</td>\n",
       "      <td>2</td>\n",
       "      <td>2</td>\n",
       "      <td>1</td>\n",
       "      <td>24</td>\n",
       "      <td>2</td>\n",
       "      <td>2</td>\n",
       "      <td>-1</td>\n",
       "      <td>-1</td>\n",
       "      <td>-2</td>\n",
       "      <td>...</td>\n",
       "      <td>0.0</td>\n",
       "      <td>0.0</td>\n",
       "      <td>0.0</td>\n",
       "      <td>0.0</td>\n",
       "      <td>689.0</td>\n",
       "      <td>0.0</td>\n",
       "      <td>0.0</td>\n",
       "      <td>0.0</td>\n",
       "      <td>0.0</td>\n",
       "      <td>1</td>\n",
       "    </tr>\n",
       "    <tr>\n",
       "      <th>1</th>\n",
       "      <td>120000.0</td>\n",
       "      <td>2</td>\n",
       "      <td>2</td>\n",
       "      <td>2</td>\n",
       "      <td>26</td>\n",
       "      <td>-1</td>\n",
       "      <td>2</td>\n",
       "      <td>0</td>\n",
       "      <td>0</td>\n",
       "      <td>0</td>\n",
       "      <td>...</td>\n",
       "      <td>3272.0</td>\n",
       "      <td>3455.0</td>\n",
       "      <td>3261.0</td>\n",
       "      <td>0.0</td>\n",
       "      <td>1000.0</td>\n",
       "      <td>1000.0</td>\n",
       "      <td>1000.0</td>\n",
       "      <td>0.0</td>\n",
       "      <td>2000.0</td>\n",
       "      <td>1</td>\n",
       "    </tr>\n",
       "    <tr>\n",
       "      <th>2</th>\n",
       "      <td>90000.0</td>\n",
       "      <td>2</td>\n",
       "      <td>2</td>\n",
       "      <td>2</td>\n",
       "      <td>34</td>\n",
       "      <td>0</td>\n",
       "      <td>0</td>\n",
       "      <td>0</td>\n",
       "      <td>0</td>\n",
       "      <td>0</td>\n",
       "      <td>...</td>\n",
       "      <td>14331.0</td>\n",
       "      <td>14948.0</td>\n",
       "      <td>15549.0</td>\n",
       "      <td>1518.0</td>\n",
       "      <td>1500.0</td>\n",
       "      <td>1000.0</td>\n",
       "      <td>1000.0</td>\n",
       "      <td>1000.0</td>\n",
       "      <td>5000.0</td>\n",
       "      <td>0</td>\n",
       "    </tr>\n",
       "    <tr>\n",
       "      <th>3</th>\n",
       "      <td>50000.0</td>\n",
       "      <td>2</td>\n",
       "      <td>2</td>\n",
       "      <td>1</td>\n",
       "      <td>37</td>\n",
       "      <td>0</td>\n",
       "      <td>0</td>\n",
       "      <td>0</td>\n",
       "      <td>0</td>\n",
       "      <td>0</td>\n",
       "      <td>...</td>\n",
       "      <td>28314.0</td>\n",
       "      <td>28959.0</td>\n",
       "      <td>29547.0</td>\n",
       "      <td>2000.0</td>\n",
       "      <td>2019.0</td>\n",
       "      <td>1200.0</td>\n",
       "      <td>1100.0</td>\n",
       "      <td>1069.0</td>\n",
       "      <td>1000.0</td>\n",
       "      <td>0</td>\n",
       "    </tr>\n",
       "    <tr>\n",
       "      <th>4</th>\n",
       "      <td>50000.0</td>\n",
       "      <td>1</td>\n",
       "      <td>2</td>\n",
       "      <td>1</td>\n",
       "      <td>57</td>\n",
       "      <td>-1</td>\n",
       "      <td>0</td>\n",
       "      <td>-1</td>\n",
       "      <td>0</td>\n",
       "      <td>0</td>\n",
       "      <td>...</td>\n",
       "      <td>20940.0</td>\n",
       "      <td>19146.0</td>\n",
       "      <td>19131.0</td>\n",
       "      <td>2000.0</td>\n",
       "      <td>36681.0</td>\n",
       "      <td>10000.0</td>\n",
       "      <td>9000.0</td>\n",
       "      <td>689.0</td>\n",
       "      <td>679.0</td>\n",
       "      <td>0</td>\n",
       "    </tr>\n",
       "  </tbody>\n",
       "</table>\n",
       "<p>5 rows × 24 columns</p>\n",
       "</div>"
      ],
      "text/plain": [
       "   LIMIT_BAL  SEX  EDUCATION  MARRIAGE  AGE  PAY_0  PAY_2  PAY_3  PAY_4  \\\n",
       "0    20000.0    2          2         1   24      2      2     -1     -1   \n",
       "1   120000.0    2          2         2   26     -1      2      0      0   \n",
       "2    90000.0    2          2         2   34      0      0      0      0   \n",
       "3    50000.0    2          2         1   37      0      0      0      0   \n",
       "4    50000.0    1          2         1   57     -1      0     -1      0   \n",
       "\n",
       "   PAY_5  ...  BILL_AMT4  BILL_AMT5  BILL_AMT6  PAY_AMT1  PAY_AMT2  PAY_AMT3  \\\n",
       "0     -2  ...        0.0        0.0        0.0       0.0     689.0       0.0   \n",
       "1      0  ...     3272.0     3455.0     3261.0       0.0    1000.0    1000.0   \n",
       "2      0  ...    14331.0    14948.0    15549.0    1518.0    1500.0    1000.0   \n",
       "3      0  ...    28314.0    28959.0    29547.0    2000.0    2019.0    1200.0   \n",
       "4      0  ...    20940.0    19146.0    19131.0    2000.0   36681.0   10000.0   \n",
       "\n",
       "   PAY_AMT4  PAY_AMT5  PAY_AMT6  default.payment.next.month  \n",
       "0       0.0       0.0       0.0                           1  \n",
       "1    1000.0       0.0    2000.0                           1  \n",
       "2    1000.0    1000.0    5000.0                           0  \n",
       "3    1100.0    1069.0    1000.0                           0  \n",
       "4    9000.0     689.0     679.0                           0  \n",
       "\n",
       "[5 rows x 24 columns]"
      ]
     },
     "execution_count": 4,
     "metadata": {},
     "output_type": "execute_result"
    }
   ],
   "source": [
    "df.head()"
   ]
  },
  {
   "cell_type": "code",
   "execution_count": 5,
   "metadata": {},
   "outputs": [],
   "source": [
    "#Feature Engineering\n",
    "df['SEX'] = df['SEX'] - 1\n",
    "df['EDUCATION'] = df['EDUCATION'].apply(lambda x: 4 if x >= 4 else x)\n",
    "df['PAY_0'] = df['PAY_0'].apply(lambda x: 0 if x<=0 else x)\n",
    "df['PAY_2'] = df['PAY_2'].apply(lambda x: 0 if x<=0 else x)\n",
    "df['PAY_3'] = df['PAY_3'].apply(lambda x: 0 if x<=0 else x)\n",
    "df['PAY_4'] = df['PAY_4'].apply(lambda x: 0 if x<=0 else x)\n",
    "df['PAY_5'] = df['PAY_5'].apply(lambda x: 0 if x<=0 else x)\n",
    "df['PAY_6'] = df['PAY_6'].apply(lambda x: 0 if x<=0 else x)"
   ]
  },
  {
   "cell_type": "code",
   "execution_count": 6,
   "metadata": {
    "ExecuteTime": {
     "end_time": "2023-08-08T13:36:08.105167700Z",
     "start_time": "2023-08-08T13:36:08.038490600Z"
    }
   },
   "outputs": [],
   "source": [
    "#separate into independent and dependent features\n",
    "target = 'default.payment.next.month'\n",
    "X = df.drop(target,axis=1)\n",
    "y = df[target]"
   ]
  },
  {
   "cell_type": "code",
   "execution_count": 7,
   "metadata": {
    "ExecuteTime": {
     "end_time": "2023-08-08T13:36:08.874351700Z",
     "start_time": "2023-08-08T13:36:08.071827Z"
    }
   },
   "outputs": [],
   "source": [
    "#rectifying target imbalance\n",
    "from imblearn.combine import SMOTETomek\n",
    "resampler = SMOTETomek(random_state=42)\n",
    "X , y = resampler.fit_resample(X, y)"
   ]
  },
  {
   "cell_type": "code",
   "execution_count": 8,
   "metadata": {
    "ExecuteTime": {
     "end_time": "2023-08-08T13:36:08.920314400Z",
     "start_time": "2023-08-08T13:36:08.875377800Z"
    }
   },
   "outputs": [
    {
     "data": {
      "text/plain": [
       "((22746, 23), (22746, 23))"
      ]
     },
     "execution_count": 8,
     "metadata": {},
     "output_type": "execute_result"
    }
   ],
   "source": [
    "X[y==1].shape , X[y==0].shape"
   ]
  },
  {
   "cell_type": "code",
   "execution_count": 9,
   "metadata": {},
   "outputs": [],
   "source": [
    "cat_cols = ['SEX', 'EDUCATION', 'MARRIAGE']"
   ]
  },
  {
   "cell_type": "code",
   "execution_count": 10,
   "metadata": {
    "ExecuteTime": {
     "end_time": "2023-08-08T13:36:09.036392200Z",
     "start_time": "2023-08-08T13:36:08.895948700Z"
    }
   },
   "outputs": [],
   "source": [
    "numerical_cols = [x for x in df.columns if x not in cat_cols and x!= target]\n",
    "df[numerical_cols] = np.log(df[numerical_cols]+1e-10)"
   ]
  },
  {
   "cell_type": "code",
   "execution_count": 11,
   "metadata": {},
   "outputs": [
    {
     "data": {
      "text/plain": [
       "['LIMIT_BAL',\n",
       " 'AGE',\n",
       " 'PAY_0',\n",
       " 'PAY_2',\n",
       " 'PAY_3',\n",
       " 'PAY_4',\n",
       " 'PAY_5',\n",
       " 'PAY_6',\n",
       " 'BILL_AMT1',\n",
       " 'BILL_AMT2',\n",
       " 'BILL_AMT3',\n",
       " 'BILL_AMT4',\n",
       " 'BILL_AMT5',\n",
       " 'BILL_AMT6',\n",
       " 'PAY_AMT1',\n",
       " 'PAY_AMT2',\n",
       " 'PAY_AMT3',\n",
       " 'PAY_AMT4',\n",
       " 'PAY_AMT5',\n",
       " 'PAY_AMT6']"
      ]
     },
     "execution_count": 11,
     "metadata": {},
     "output_type": "execute_result"
    }
   ],
   "source": [
    "numerical_cols"
   ]
  },
  {
   "cell_type": "code",
   "execution_count": 48,
   "metadata": {
    "ExecuteTime": {
     "end_time": "2023-08-08T13:36:09.036392200Z",
     "start_time": "2023-08-08T13:36:08.946785200Z"
    }
   },
   "outputs": [],
   "source": [
    "from sklearn.impute import SimpleImputer ## HAndling Missing Values\n",
    "from sklearn.preprocessing import (StandardScaler , OneHotEncoder,)# (FunctionTransformer, PowerTransformer) # Handling Feature Scaling\n",
    "## pipelines\n",
    "from sklearn.pipeline import Pipeline\n",
    "from sklearn.compose import ColumnTransformer"
   ]
  },
  {
   "cell_type": "code",
   "execution_count": 49,
   "metadata": {
    "ExecuteTime": {
     "end_time": "2023-08-08T13:36:09.036392200Z",
     "start_time": "2023-08-08T13:36:08.971480400Z"
    }
   },
   "outputs": [],
   "source": [
    "numerical_pipeline = Pipeline(\n",
    "    steps=[\n",
    "        ('imputer',SimpleImputer(strategy='median')),\n",
    "        ('scaler', StandardScaler()),\n",
    "        # ('log',FunctionTransformer(np.log1p,feature_names_out='one-to-one'))\n",
    "        # ('box-cox', PowerTransformer())\n",
    "        ]\n",
    "    )\n",
    "\n",
    "cat_pipeline=Pipeline(\n",
    "    steps=[\n",
    "    ('imputer',SimpleImputer(strategy='most_frequent')),\n",
    "    ('ordinalencoder',OneHotEncoder(drop='first',handle_unknown='ignore')),\n",
    "    ('scaler',StandardScaler(with_mean=False))\n",
    "        ]\n",
    "    )\n",
    "\n",
    "preprocessor = ColumnTransformer([\n",
    "    ('numerical_pipeline',numerical_pipeline, numerical_cols),\n",
    "    ('categorical_pipeline',cat_pipeline , cat_cols)\n",
    "    ])"
   ]
  },
  {
   "cell_type": "code",
   "execution_count": 50,
   "metadata": {
    "ExecuteTime": {
     "end_time": "2023-08-08T13:36:09.128325Z",
     "start_time": "2023-08-08T13:36:08.987770Z"
    }
   },
   "outputs": [],
   "source": [
    "## Train test split\n",
    "\n",
    "from sklearn.model_selection import train_test_split\n",
    "\n",
    "X_train,X_test,y_train,y_test=train_test_split(X,y,test_size=0.30,random_state=30)"
   ]
  },
  {
   "cell_type": "code",
   "execution_count": 51,
   "metadata": {
    "ExecuteTime": {
     "end_time": "2023-08-08T13:36:09.152823800Z",
     "start_time": "2023-08-08T13:36:09.012137100Z"
    }
   },
   "outputs": [],
   "source": [
    "X_train=pd.DataFrame(preprocessor.fit_transform(X_train),columns=preprocessor.get_feature_names_out())\n",
    "X_test=pd.DataFrame(preprocessor.transform(X_test),columns=preprocessor.get_feature_names_out())"
   ]
  },
  {
   "cell_type": "code",
   "execution_count": 52,
   "metadata": {
    "ExecuteTime": {
     "end_time": "2023-08-08T13:36:09.152823800Z",
     "start_time": "2023-08-08T13:36:09.060680500Z"
    }
   },
   "outputs": [
    {
     "data": {
      "text/plain": [
       "((31844, 28), (13648, 28))"
      ]
     },
     "execution_count": 52,
     "metadata": {},
     "output_type": "execute_result"
    }
   ],
   "source": [
    "X_train.shape , X_test.shape"
   ]
  },
  {
   "cell_type": "code",
   "execution_count": 53,
   "metadata": {
    "ExecuteTime": {
     "end_time": "2023-08-08T13:36:09.277177800Z",
     "start_time": "2023-08-08T13:36:09.077001200Z"
    }
   },
   "outputs": [],
   "source": [
    "from sklearn.linear_model import LogisticRegression\n",
    "from sklearn.linear_model import RidgeClassifier\n",
    "from sklearn.naive_bayes import BernoulliNB\n",
    "from sklearn.tree import DecisionTreeClassifier\n",
    "from sklearn.neighbors import KNeighborsClassifier\n",
    "from sklearn.ensemble import AdaBoostClassifier\n",
    "from sklearn.ensemble import GradientBoostingClassifier\n",
    "from sklearn.ensemble import BaggingClassifier\n",
    "from sklearn.ensemble import RandomForestClassifier\n",
    "from sklearn.svm import SVC\n",
    "from xgboost import XGBClassifier\n",
    "from sklearn.metrics import  accuracy_score , roc_auc_score , f1_score , recall_score"
   ]
  },
  {
   "cell_type": "code",
   "execution_count": 54,
   "metadata": {
    "ExecuteTime": {
     "end_time": "2023-08-08T13:36:09.285363200Z",
     "start_time": "2023-08-08T13:36:09.201961700Z"
    }
   },
   "outputs": [],
   "source": [
    "# a function to evaluate the model\n",
    "def evaluate_model(true, predicted):\n",
    "    accuracy = accuracy_score(true, predicted)\n",
    "    roc_score = roc_auc_score(true, predicted)\n",
    "    f_1_score = f1_score(true, predicted)\n",
    "    recall = recall_score(true, predicted)\n",
    "\n",
    "    return accuracy , roc_score , f_1_score , recall"
   ]
  },
  {
   "cell_type": "code",
   "execution_count": 55,
   "metadata": {
    "ExecuteTime": {
     "end_time": "2023-08-08T13:36:12.649388400Z",
     "start_time": "2023-08-08T13:36:09.220111600Z"
    }
   },
   "outputs": [
    {
     "name": "stdout",
     "output_type": "stream",
     "text": [
      "LogisticRegression\n",
      "Model Training Performance\n",
      "ROC: 0.7357311347395462\n",
      "Accuracy: 0.7356389214536928\n",
      "===================================\n",
      "\n",
      "\n",
      "RidgeClassifier\n",
      "Model Training Performance\n",
      "ROC: 0.7319370761276155\n",
      "Accuracy: 0.7318288393903869\n",
      "===================================\n",
      "\n",
      "\n",
      "BernoulliNB\n",
      "Model Training Performance\n",
      "ROC: 0.7138479316844395\n",
      "Accuracy: 0.7136576787807737\n",
      "===================================\n",
      "\n",
      "\n",
      "DecisionTreeClassifier\n",
      "Model Training Performance\n",
      "ROC: 0.7418746939322808\n",
      "Accuracy: 0.7419402110199297\n",
      "===================================\n",
      "\n",
      "\n",
      "KNeighborsClassifier\n",
      "Model Training Performance\n",
      "ROC: 0.7424438585582097\n",
      "Accuracy: 0.7425263774912075\n",
      "===================================\n",
      "\n",
      "\n",
      "AdaBoostClassifier\n",
      "Model Training Performance\n",
      "ROC: 0.7546803611489565\n",
      "Accuracy: 0.7546160609613131\n",
      "===================================\n",
      "\n",
      "\n",
      "GradientBoostingClassifier\n",
      "Model Training Performance\n",
      "ROC: 0.7728221400057362\n",
      "Accuracy: 0.7727139507620164\n",
      "===================================\n",
      "\n",
      "\n",
      "BaggingClassifier\n",
      "Model Training Performance\n",
      "ROC: 0.8042672185828386\n",
      "Accuracy: 0.8041471277842908\n",
      "===================================\n",
      "\n",
      "\n",
      "RandomForestClassifier\n",
      "Model Training Performance\n",
      "ROC: 0.8313044710346659\n",
      "Accuracy: 0.831257327080891\n",
      "===================================\n",
      "\n",
      "\n",
      "SVC\n",
      "Model Training Performance\n",
      "ROC: 0.7543879405818243\n",
      "Accuracy: 0.7542497069167644\n",
      "===================================\n",
      "\n",
      "\n",
      "XGBClassifier\n",
      "Model Training Performance\n",
      "ROC: 0.8139539907794644\n",
      "Accuracy: 0.8138921453692849\n",
      "===================================\n",
      "\n",
      "\n",
      "Best Model ('RandomForestClassifier', 0.831257327080891)\n",
      "RandomForestClassifier()\n",
      "                        models  accuracy  roc_auc_score  f1_score  \\\n",
      "8       RandomForestClassifier  0.831257       0.831304  0.829218   \n",
      "10               XGBClassifier  0.813892       0.813954  0.810758   \n",
      "7            BaggingClassifier  0.804147       0.804267  0.797116   \n",
      "6   GradientBoostingClassifier  0.772714       0.772822  0.765426   \n",
      "5           AdaBoostClassifier  0.754616       0.754680  0.750242   \n",
      "9                          SVC  0.754250       0.754388  0.743891   \n",
      "4         KNeighborsClassifier  0.742526       0.742444  0.749537   \n",
      "3       DecisionTreeClassifier  0.741940       0.741875  0.747672   \n",
      "0           LogisticRegression  0.735639       0.735731  0.728518   \n",
      "1              RidgeClassifier  0.731829       0.731937  0.723189   \n",
      "2                  BernoulliNB  0.713658       0.713848  0.696442   \n",
      "\n",
      "    recall_score  \n",
      "8       0.816681  \n",
      "10      0.794771  \n",
      "7       0.767017  \n",
      "6       0.739264  \n",
      "5       0.734736  \n",
      "9       0.711510  \n",
      "4       0.768040  \n",
      "3       0.762197  \n",
      "0       0.707128  \n",
      "1       0.698364  \n",
      "2       0.654835  \n"
     ]
    }
   ],
   "source": [
    "models={\n",
    "    'LogisticRegression':LogisticRegression(),\n",
    "    'RidgeClassifier':RidgeClassifier(),\n",
    "    'BernoulliNB':BernoulliNB(),\n",
    "    'DecisionTreeClassifier':DecisionTreeClassifier(),\n",
    "    'KNeighborsClassifier':KNeighborsClassifier(),\n",
    "    'AdaBoostClassifier':AdaBoostClassifier(),\n",
    "    'GradientBoostingClassifier':GradientBoostingClassifier(),\n",
    "    'BaggingClassifier':BaggingClassifier(),\n",
    "    'RandomForestClassifier':RandomForestClassifier(),\n",
    "    'SVC':SVC(),\n",
    "    'XGBClassifier':XGBClassifier()\n",
    "}\n",
    "model_list=[]\n",
    "roc=[]\n",
    "acc = []\n",
    "f1 = []\n",
    "rec = []\n",
    "performance = []\n",
    "for i in range(len(list(models))):\n",
    "    model=list(models.values())[i]\n",
    "    model.fit(X_train,y_train)\n",
    "\n",
    "    #Make Predictions\n",
    "    y_pred=model.predict(X_test)\n",
    "\n",
    "    accuracy , roc_score  , f_1_score , recall =evaluate_model(y_test,y_pred)\n",
    "\n",
    "    print(list(models.keys())[i])\n",
    "    model_list.append(list(models.keys())[i])\n",
    "    roc.append(roc_score)\n",
    "    acc.append(accuracy)\n",
    "    f1.append(f_1_score)\n",
    "    rec.append(recall)\n",
    "    performance.append((list(models.keys())[i] , accuracy ))\n",
    "\n",
    "\n",
    "    print('Model Training Performance')\n",
    "    print(\"ROC:\",roc_score)\n",
    "    print(\"Accuracy:\",accuracy)\n",
    "\n",
    "    \n",
    "    print('='*35)\n",
    "    print('\\n')\n",
    "\n",
    "print(\"Best Model\" , sorted(performance , key = lambda x: x[1])[-1])\n",
    "model = models[sorted(performance , key = lambda x: x[1])[-1][0]]\n",
    "print(model)\n",
    "\n",
    "metrics = pd.DataFrame({\"models\": model_list , \"accuracy\" : acc , \"roc_auc_score\": roc , \"f1_score\" : f1 , \"recall_score\" : rec}).sort_values('accuracy',ascending=False)\n",
    "print(metrics)\n"
   ]
  },
  {
   "cell_type": "code",
   "execution_count": 56,
   "metadata": {
    "ExecuteTime": {
     "end_time": "2023-08-08T13:36:12.708247200Z",
     "start_time": "2023-08-08T13:36:12.641384400Z"
    }
   },
   "outputs": [
    {
     "data": {
      "text/html": [
       "<div>\n",
       "<style scoped>\n",
       "    .dataframe tbody tr th:only-of-type {\n",
       "        vertical-align: middle;\n",
       "    }\n",
       "\n",
       "    .dataframe tbody tr th {\n",
       "        vertical-align: top;\n",
       "    }\n",
       "\n",
       "    .dataframe thead th {\n",
       "        text-align: right;\n",
       "    }\n",
       "</style>\n",
       "<table border=\"1\" class=\"dataframe\">\n",
       "  <thead>\n",
       "    <tr style=\"text-align: right;\">\n",
       "      <th></th>\n",
       "      <th>models</th>\n",
       "      <th>accuracy</th>\n",
       "      <th>roc_auc_score</th>\n",
       "      <th>f1_score</th>\n",
       "      <th>recall_score</th>\n",
       "    </tr>\n",
       "  </thead>\n",
       "  <tbody>\n",
       "    <tr>\n",
       "      <th>8</th>\n",
       "      <td>RandomForestClassifier</td>\n",
       "      <td>0.831257</td>\n",
       "      <td>0.831304</td>\n",
       "      <td>0.829218</td>\n",
       "      <td>0.816681</td>\n",
       "    </tr>\n",
       "    <tr>\n",
       "      <th>10</th>\n",
       "      <td>XGBClassifier</td>\n",
       "      <td>0.813892</td>\n",
       "      <td>0.813954</td>\n",
       "      <td>0.810758</td>\n",
       "      <td>0.794771</td>\n",
       "    </tr>\n",
       "    <tr>\n",
       "      <th>7</th>\n",
       "      <td>BaggingClassifier</td>\n",
       "      <td>0.804147</td>\n",
       "      <td>0.804267</td>\n",
       "      <td>0.797116</td>\n",
       "      <td>0.767017</td>\n",
       "    </tr>\n",
       "    <tr>\n",
       "      <th>6</th>\n",
       "      <td>GradientBoostingClassifier</td>\n",
       "      <td>0.772714</td>\n",
       "      <td>0.772822</td>\n",
       "      <td>0.765426</td>\n",
       "      <td>0.739264</td>\n",
       "    </tr>\n",
       "    <tr>\n",
       "      <th>5</th>\n",
       "      <td>AdaBoostClassifier</td>\n",
       "      <td>0.754616</td>\n",
       "      <td>0.754680</td>\n",
       "      <td>0.750242</td>\n",
       "      <td>0.734736</td>\n",
       "    </tr>\n",
       "    <tr>\n",
       "      <th>9</th>\n",
       "      <td>SVC</td>\n",
       "      <td>0.754250</td>\n",
       "      <td>0.754388</td>\n",
       "      <td>0.743891</td>\n",
       "      <td>0.711510</td>\n",
       "    </tr>\n",
       "    <tr>\n",
       "      <th>4</th>\n",
       "      <td>KNeighborsClassifier</td>\n",
       "      <td>0.742526</td>\n",
       "      <td>0.742444</td>\n",
       "      <td>0.749537</td>\n",
       "      <td>0.768040</td>\n",
       "    </tr>\n",
       "    <tr>\n",
       "      <th>3</th>\n",
       "      <td>DecisionTreeClassifier</td>\n",
       "      <td>0.741940</td>\n",
       "      <td>0.741875</td>\n",
       "      <td>0.747672</td>\n",
       "      <td>0.762197</td>\n",
       "    </tr>\n",
       "    <tr>\n",
       "      <th>0</th>\n",
       "      <td>LogisticRegression</td>\n",
       "      <td>0.735639</td>\n",
       "      <td>0.735731</td>\n",
       "      <td>0.728518</td>\n",
       "      <td>0.707128</td>\n",
       "    </tr>\n",
       "    <tr>\n",
       "      <th>1</th>\n",
       "      <td>RidgeClassifier</td>\n",
       "      <td>0.731829</td>\n",
       "      <td>0.731937</td>\n",
       "      <td>0.723189</td>\n",
       "      <td>0.698364</td>\n",
       "    </tr>\n",
       "    <tr>\n",
       "      <th>2</th>\n",
       "      <td>BernoulliNB</td>\n",
       "      <td>0.713658</td>\n",
       "      <td>0.713848</td>\n",
       "      <td>0.696442</td>\n",
       "      <td>0.654835</td>\n",
       "    </tr>\n",
       "  </tbody>\n",
       "</table>\n",
       "</div>"
      ],
      "text/plain": [
       "                        models  accuracy  roc_auc_score  f1_score  \\\n",
       "8       RandomForestClassifier  0.831257       0.831304  0.829218   \n",
       "10               XGBClassifier  0.813892       0.813954  0.810758   \n",
       "7            BaggingClassifier  0.804147       0.804267  0.797116   \n",
       "6   GradientBoostingClassifier  0.772714       0.772822  0.765426   \n",
       "5           AdaBoostClassifier  0.754616       0.754680  0.750242   \n",
       "9                          SVC  0.754250       0.754388  0.743891   \n",
       "4         KNeighborsClassifier  0.742526       0.742444  0.749537   \n",
       "3       DecisionTreeClassifier  0.741940       0.741875  0.747672   \n",
       "0           LogisticRegression  0.735639       0.735731  0.728518   \n",
       "1              RidgeClassifier  0.731829       0.731937  0.723189   \n",
       "2                  BernoulliNB  0.713658       0.713848  0.696442   \n",
       "\n",
       "    recall_score  \n",
       "8       0.816681  \n",
       "10      0.794771  \n",
       "7       0.767017  \n",
       "6       0.739264  \n",
       "5       0.734736  \n",
       "9       0.711510  \n",
       "4       0.768040  \n",
       "3       0.762197  \n",
       "0       0.707128  \n",
       "1       0.698364  \n",
       "2       0.654835  "
      ]
     },
     "execution_count": 56,
     "metadata": {},
     "output_type": "execute_result"
    }
   ],
   "source": [
    "metrics"
   ]
  },
  {
   "cell_type": "code",
   "execution_count": 57,
   "metadata": {
    "ExecuteTime": {
     "end_time": "2023-08-08T13:39:13.178005500Z",
     "start_time": "2023-08-08T13:39:13.108642700Z"
    },
    "collapsed": false,
    "jupyter": {
     "outputs_hidden": false
    }
   },
   "outputs": [],
   "source": [
    "from sklearn.model_selection import RandomizedSearchCV"
   ]
  },
  {
   "cell_type": "code",
   "execution_count": 58,
   "metadata": {
    "ExecuteTime": {
     "end_time": "2023-08-08T13:42:06.946507900Z",
     "start_time": "2023-08-08T13:42:06.880066100Z"
    },
    "collapsed": false,
    "jupyter": {
     "outputs_hidden": false
    }
   },
   "outputs": [],
   "source": [
    "params = {\n",
    "    'n_estimators':[200,300,400],\n",
    "    \"criterion\":['gini',], #['entropy','log_loss'],\n",
    "    'max_features':['sqrt'] #['log2',None]\n",
    "}"
   ]
  },
  {
   "cell_type": "code",
   "execution_count": 61,
   "metadata": {
    "ExecuteTime": {
     "end_time": "2023-08-08T13:50:39.545799900Z",
     "start_time": "2023-08-08T13:50:39.408330100Z"
    },
    "collapsed": false,
    "jupyter": {
     "outputs_hidden": false
    }
   },
   "outputs": [],
   "source": [
    "classifier = RandomForestClassifier()\n",
    "clf = RandomizedSearchCV(classifier, param_distributions=params,scoring='accuracy', verbose=3, cv=5,random_state=42)"
   ]
  },
  {
   "cell_type": "code",
   "execution_count": 62,
   "metadata": {
    "ExecuteTime": {
     "end_time": "2023-08-08T13:51:54.410645300Z",
     "start_time": "2023-08-08T13:51:10.429221Z"
    },
    "collapsed": false,
    "jupyter": {
     "outputs_hidden": false
    }
   },
   "outputs": [
    {
     "name": "stdout",
     "output_type": "stream",
     "text": [
      "Fitting 5 folds for each of 3 candidates, totalling 15 fits\n",
      "[CV 1/5] END criterion=gini, max_features=sqrt, n_estimators=200;, score=0.832 total time=  16.8s\n",
      "[CV 2/5] END criterion=gini, max_features=sqrt, n_estimators=200;, score=0.830 total time=  16.8s\n",
      "[CV 3/5] END criterion=gini, max_features=sqrt, n_estimators=200;, score=0.827 total time=  16.6s\n",
      "[CV 4/5] END criterion=gini, max_features=sqrt, n_estimators=200;, score=0.831 total time=  16.7s\n",
      "[CV 5/5] END criterion=gini, max_features=sqrt, n_estimators=200;, score=0.830 total time=  16.8s\n",
      "[CV 1/5] END criterion=gini, max_features=sqrt, n_estimators=300;, score=0.834 total time=  25.3s\n",
      "[CV 2/5] END criterion=gini, max_features=sqrt, n_estimators=300;, score=0.831 total time=  24.9s\n",
      "[CV 3/5] END criterion=gini, max_features=sqrt, n_estimators=300;, score=0.827 total time=  25.2s\n",
      "[CV 4/5] END criterion=gini, max_features=sqrt, n_estimators=300;, score=0.833 total time=  25.7s\n",
      "[CV 5/5] END criterion=gini, max_features=sqrt, n_estimators=300;, score=0.832 total time=  27.4s\n",
      "[CV 1/5] END criterion=gini, max_features=sqrt, n_estimators=400;, score=0.834 total time=  39.5s\n",
      "[CV 2/5] END criterion=gini, max_features=sqrt, n_estimators=400;, score=0.830 total time=  40.0s\n",
      "[CV 3/5] END criterion=gini, max_features=sqrt, n_estimators=400;, score=0.830 total time=  46.5s\n",
      "[CV 4/5] END criterion=gini, max_features=sqrt, n_estimators=400;, score=0.831 total time=  38.2s\n",
      "[CV 5/5] END criterion=gini, max_features=sqrt, n_estimators=400;, score=0.832 total time=  42.8s\n"
     ]
    },
    {
     "data": {
      "text/html": [
       "<style>#sk-container-id-2 {color: black;background-color: white;}#sk-container-id-2 pre{padding: 0;}#sk-container-id-2 div.sk-toggleable {background-color: white;}#sk-container-id-2 label.sk-toggleable__label {cursor: pointer;display: block;width: 100%;margin-bottom: 0;padding: 0.3em;box-sizing: border-box;text-align: center;}#sk-container-id-2 label.sk-toggleable__label-arrow:before {content: \"▸\";float: left;margin-right: 0.25em;color: #696969;}#sk-container-id-2 label.sk-toggleable__label-arrow:hover:before {color: black;}#sk-container-id-2 div.sk-estimator:hover label.sk-toggleable__label-arrow:before {color: black;}#sk-container-id-2 div.sk-toggleable__content {max-height: 0;max-width: 0;overflow: hidden;text-align: left;background-color: #f0f8ff;}#sk-container-id-2 div.sk-toggleable__content pre {margin: 0.2em;color: black;border-radius: 0.25em;background-color: #f0f8ff;}#sk-container-id-2 input.sk-toggleable__control:checked~div.sk-toggleable__content {max-height: 200px;max-width: 100%;overflow: auto;}#sk-container-id-2 input.sk-toggleable__control:checked~label.sk-toggleable__label-arrow:before {content: \"▾\";}#sk-container-id-2 div.sk-estimator input.sk-toggleable__control:checked~label.sk-toggleable__label {background-color: #d4ebff;}#sk-container-id-2 div.sk-label input.sk-toggleable__control:checked~label.sk-toggleable__label {background-color: #d4ebff;}#sk-container-id-2 input.sk-hidden--visually {border: 0;clip: rect(1px 1px 1px 1px);clip: rect(1px, 1px, 1px, 1px);height: 1px;margin: -1px;overflow: hidden;padding: 0;position: absolute;width: 1px;}#sk-container-id-2 div.sk-estimator {font-family: monospace;background-color: #f0f8ff;border: 1px dotted black;border-radius: 0.25em;box-sizing: border-box;margin-bottom: 0.5em;}#sk-container-id-2 div.sk-estimator:hover {background-color: #d4ebff;}#sk-container-id-2 div.sk-parallel-item::after {content: \"\";width: 100%;border-bottom: 1px solid gray;flex-grow: 1;}#sk-container-id-2 div.sk-label:hover label.sk-toggleable__label {background-color: #d4ebff;}#sk-container-id-2 div.sk-serial::before {content: \"\";position: absolute;border-left: 1px solid gray;box-sizing: border-box;top: 0;bottom: 0;left: 50%;z-index: 0;}#sk-container-id-2 div.sk-serial {display: flex;flex-direction: column;align-items: center;background-color: white;padding-right: 0.2em;padding-left: 0.2em;position: relative;}#sk-container-id-2 div.sk-item {position: relative;z-index: 1;}#sk-container-id-2 div.sk-parallel {display: flex;align-items: stretch;justify-content: center;background-color: white;position: relative;}#sk-container-id-2 div.sk-item::before, #sk-container-id-2 div.sk-parallel-item::before {content: \"\";position: absolute;border-left: 1px solid gray;box-sizing: border-box;top: 0;bottom: 0;left: 50%;z-index: -1;}#sk-container-id-2 div.sk-parallel-item {display: flex;flex-direction: column;z-index: 1;position: relative;background-color: white;}#sk-container-id-2 div.sk-parallel-item:first-child::after {align-self: flex-end;width: 50%;}#sk-container-id-2 div.sk-parallel-item:last-child::after {align-self: flex-start;width: 50%;}#sk-container-id-2 div.sk-parallel-item:only-child::after {width: 0;}#sk-container-id-2 div.sk-dashed-wrapped {border: 1px dashed gray;margin: 0 0.4em 0.5em 0.4em;box-sizing: border-box;padding-bottom: 0.4em;background-color: white;}#sk-container-id-2 div.sk-label label {font-family: monospace;font-weight: bold;display: inline-block;line-height: 1.2em;}#sk-container-id-2 div.sk-label-container {text-align: center;}#sk-container-id-2 div.sk-container {/* jupyter's `normalize.less` sets `[hidden] { display: none; }` but bootstrap.min.css set `[hidden] { display: none !important; }` so we also need the `!important` here to be able to override the default hidden behavior on the sphinx rendered scikit-learn.org. See: https://github.com/scikit-learn/scikit-learn/issues/21755 */display: inline-block !important;position: relative;}#sk-container-id-2 div.sk-text-repr-fallback {display: none;}</style><div id=\"sk-container-id-2\" class=\"sk-top-container\"><div class=\"sk-text-repr-fallback\"><pre>RandomizedSearchCV(cv=5, estimator=RandomForestClassifier(),\n",
       "                   param_distributions={&#x27;criterion&#x27;: [&#x27;gini&#x27;],\n",
       "                                        &#x27;max_features&#x27;: [&#x27;sqrt&#x27;],\n",
       "                                        &#x27;n_estimators&#x27;: [200, 300, 400]},\n",
       "                   random_state=42, scoring=&#x27;accuracy&#x27;, verbose=3)</pre><b>In a Jupyter environment, please rerun this cell to show the HTML representation or trust the notebook. <br />On GitHub, the HTML representation is unable to render, please try loading this page with nbviewer.org.</b></div><div class=\"sk-container\" hidden><div class=\"sk-item sk-dashed-wrapped\"><div class=\"sk-label-container\"><div class=\"sk-label sk-toggleable\"><input class=\"sk-toggleable__control sk-hidden--visually\" id=\"sk-estimator-id-4\" type=\"checkbox\" ><label for=\"sk-estimator-id-4\" class=\"sk-toggleable__label sk-toggleable__label-arrow\">RandomizedSearchCV</label><div class=\"sk-toggleable__content\"><pre>RandomizedSearchCV(cv=5, estimator=RandomForestClassifier(),\n",
       "                   param_distributions={&#x27;criterion&#x27;: [&#x27;gini&#x27;],\n",
       "                                        &#x27;max_features&#x27;: [&#x27;sqrt&#x27;],\n",
       "                                        &#x27;n_estimators&#x27;: [200, 300, 400]},\n",
       "                   random_state=42, scoring=&#x27;accuracy&#x27;, verbose=3)</pre></div></div></div><div class=\"sk-parallel\"><div class=\"sk-parallel-item\"><div class=\"sk-item\"><div class=\"sk-label-container\"><div class=\"sk-label sk-toggleable\"><input class=\"sk-toggleable__control sk-hidden--visually\" id=\"sk-estimator-id-5\" type=\"checkbox\" ><label for=\"sk-estimator-id-5\" class=\"sk-toggleable__label sk-toggleable__label-arrow\">estimator: RandomForestClassifier</label><div class=\"sk-toggleable__content\"><pre>RandomForestClassifier()</pre></div></div></div><div class=\"sk-serial\"><div class=\"sk-item\"><div class=\"sk-estimator sk-toggleable\"><input class=\"sk-toggleable__control sk-hidden--visually\" id=\"sk-estimator-id-6\" type=\"checkbox\" ><label for=\"sk-estimator-id-6\" class=\"sk-toggleable__label sk-toggleable__label-arrow\">RandomForestClassifier</label><div class=\"sk-toggleable__content\"><pre>RandomForestClassifier()</pre></div></div></div></div></div></div></div></div></div></div>"
      ],
      "text/plain": [
       "RandomizedSearchCV(cv=5, estimator=RandomForestClassifier(),\n",
       "                   param_distributions={'criterion': ['gini'],\n",
       "                                        'max_features': ['sqrt'],\n",
       "                                        'n_estimators': [200, 300, 400]},\n",
       "                   random_state=42, scoring='accuracy', verbose=3)"
      ]
     },
     "execution_count": 62,
     "metadata": {},
     "output_type": "execute_result"
    }
   ],
   "source": [
    "clf.fit(X_train,y_train)"
   ]
  },
  {
   "cell_type": "code",
   "execution_count": 63,
   "metadata": {
    "ExecuteTime": {
     "end_time": "2023-08-08T13:52:08.409817200Z",
     "start_time": "2023-08-08T13:52:08.368630800Z"
    },
    "collapsed": false,
    "jupyter": {
     "outputs_hidden": false
    }
   },
   "outputs": [
    {
     "data": {
      "text/plain": [
       "0.8312398071374301"
      ]
     },
     "execution_count": 63,
     "metadata": {},
     "output_type": "execute_result"
    }
   ],
   "source": [
    "clf.best_score_"
   ]
  },
  {
   "cell_type": "code",
   "execution_count": 64,
   "metadata": {
    "ExecuteTime": {
     "end_time": "2023-08-08T13:52:15.004011200Z",
     "start_time": "2023-08-08T13:52:14.892665100Z"
    },
    "collapsed": false,
    "jupyter": {
     "outputs_hidden": false
    }
   },
   "outputs": [
    {
     "data": {
      "text/plain": [
       "{'n_estimators': 300, 'max_features': 'sqrt', 'criterion': 'gini'}"
      ]
     },
     "execution_count": 64,
     "metadata": {},
     "output_type": "execute_result"
    }
   ],
   "source": [
    "clf.best_params_"
   ]
  }
 ],
 "metadata": {
  "kernelspec": {
   "display_name": "Python 3 (ipykernel)",
   "language": "python",
   "name": "python3"
  },
  "language_info": {
   "codemirror_mode": {
    "name": "ipython",
    "version": 3
   },
   "file_extension": ".py",
   "mimetype": "text/x-python",
   "name": "python",
   "nbconvert_exporter": "python",
   "pygments_lexer": "ipython3",
   "version": "3.9.17"
  }
 },
 "nbformat": 4,
 "nbformat_minor": 4
}
