{
 "cells": [
  {
   "cell_type": "code",
   "execution_count": 1,
   "id": "initial_id",
   "metadata": {
    "ExecuteTime": {
     "end_time": "2023-08-13T15:02:01.307598700Z",
     "start_time": "2023-08-13T15:02:01.286184500Z"
    },
    "collapsed": true
   },
   "outputs": [],
   "source": [
    "import os"
   ]
  },
  {
   "cell_type": "code",
   "execution_count": 2,
   "id": "e34caa1113e57dbf",
   "metadata": {
    "ExecuteTime": {
     "end_time": "2023-08-13T15:02:01.663182200Z",
     "start_time": "2023-08-13T15:02:01.636534500Z"
    },
    "collapsed": false
   },
   "outputs": [
    {
     "data": {
      "text/plain": [
       "'d:\\\\Python\\\\MLProjectsPW\\\\CreditCardFraud1\\\\research'"
      ]
     },
     "execution_count": 2,
     "metadata": {},
     "output_type": "execute_result"
    }
   ],
   "source": [
    "%pwd"
   ]
  },
  {
   "cell_type": "code",
   "execution_count": 3,
   "id": "7c87fcddaa1d714c",
   "metadata": {
    "ExecuteTime": {
     "end_time": "2023-08-13T15:02:02.871466900Z",
     "start_time": "2023-08-13T15:02:02.859758200Z"
    },
    "collapsed": false
   },
   "outputs": [],
   "source": [
    "os.chdir(\"../\")"
   ]
  },
  {
   "cell_type": "code",
   "execution_count": 4,
   "id": "a0c4bf47b3d9649",
   "metadata": {
    "ExecuteTime": {
     "end_time": "2023-08-13T15:02:03.275648500Z",
     "start_time": "2023-08-13T15:02:03.242080800Z"
    },
    "collapsed": false
   },
   "outputs": [
    {
     "data": {
      "text/plain": [
       "'d:\\\\Python\\\\MLProjectsPW\\\\CreditCardFraud1'"
      ]
     },
     "execution_count": 4,
     "metadata": {},
     "output_type": "execute_result"
    }
   ],
   "source": [
    "%pwd"
   ]
  },
  {
   "cell_type": "code",
   "execution_count": 5,
   "id": "66460550dec9b96d",
   "metadata": {
    "collapsed": false
   },
   "outputs": [],
   "source": [
    "os.environ[\"MLFLOW_TRACKING_URI\"]=\"https://dagshub.com/tejas05in/CreditCardFraud1.mlflow\"\n",
    "os.environ[\"MLFLOW_TRACKING_USERNAME\"]=\"tejas05in\"\n",
    "os.environ[\"MLFLOW_TRACKING_PASSWORD\"]=\"9efcb5c7b79d0e949378459b922b1462a80fa413\""
   ]
  },
  {
   "cell_type": "code",
   "execution_count": 6,
   "id": "a0693922",
   "metadata": {},
   "outputs": [],
   "source": [
    "from dataclasses import dataclass\n",
    "from pathlib import Path\n",
    "\n",
    "@dataclass(frozen=True)\n",
    "class ModelEvaluationConfig:\n",
    "    root_dir: Path\n",
    "    test_data_path: Path\n",
    "    model_path: Path\n",
    "    all_params: dict\n",
    "    metric_file_name: Path\n",
    "    target_column: str\n",
    "    mlflow_uri: str\n"
   ]
  },
  {
   "cell_type": "code",
   "execution_count": 7,
   "id": "bad392b2",
   "metadata": {},
   "outputs": [],
   "source": [
    "from CreditCardFraud.constants import *\n",
    "from CreditCardFraud.utils.common import read_yaml , create_directories"
   ]
  },
  {
   "cell_type": "code",
   "execution_count": 8,
   "id": "95d79053",
   "metadata": {},
   "outputs": [],
   "source": [
    "class ConfigurationManager:\n",
    "    def __init__(\n",
    "        self,\n",
    "        config_filepath = CONFIG_FILE_PATH,\n",
    "        params_filepath = PARAMS_FILE_PATH):\n",
    "        self.config = read_yaml (config_filepath)\n",
    "        self.params = read_yaml (params_filepath)\n",
    "\n",
    "        create_directories([self.config.artifacts_root])\n",
    "    \n",
    "    def get_model_evaluation_config(self) -> ModelEvaluationConfig:\n",
    "        config = self.config.model_evaluation\n",
    "        params = self.params.RandomForestClassifier\n",
    "\n",
    "        create_directories([config.root_dir])\n",
    "\n",
    "        model_evaluation_config = ModelEvaluationConfig(\n",
    "            root_dir= config.root_dir,\n",
    "            test_data_path=config.test_data_path,\n",
    "            model_path=config.model_path,\n",
    "            all_params= params,\n",
    "            metric_file_name=config.metric_file_name,\n",
    "            target_column=\"default payment next month\",\n",
    "            mlflow_uri=\"https://dagshub.com/tejas05in/CreditCardFraud1.mlflow\"\n",
    "        )\n",
    "        return model_evaluation_config"
   ]
  },
  {
   "cell_type": "code",
   "execution_count": 9,
   "id": "6e119c3b",
   "metadata": {},
   "outputs": [],
   "source": [
    "import os\n",
    "import pandas as pd\n",
    "from sklearn.metrics import accuracy_score , roc_auc_score\n",
    "from urllib.parse import urlparse\n",
    "import mlflow\n",
    "import mlflow.sklearn\n",
    "import numpy as np\n",
    "import joblib\n",
    "from CreditCardFraud.utils.common import save_json"
   ]
  },
  {
   "cell_type": "code",
   "execution_count": 10,
   "id": "cd2ea423",
   "metadata": {},
   "outputs": [],
   "source": [
    "class ModelEvaluation:\n",
    "    def __init__(self, config: ModelEvaluationConfig):\n",
    "        self.config = config\n",
    "\n",
    "    def eval_metrics(self, actual, pred):\n",
    "        accuracy = accuracy_score(actual,pred)\n",
    "        roc_auc = roc_auc_score(actual,pred)\n",
    "        return accuracy , roc_auc\n",
    "    \n",
    "    def log_into_mlflow(self):\n",
    "        test_data = pd.read_csv(self.config.test_data_path)\n",
    "        model = joblib.load(self.config.model_path)\n",
    "\n",
    "        test_x = test_data.drop([self.config.target_column],axis=1)\n",
    "        test_y = test_data[self.config.target_column]\n",
    "\n",
    "        mlflow.set_registry_uri(self.config.mlflow_uri)\n",
    "        tracking_uri_type_store = urlparse(mlflow.get_tracking_uri()).scheme\n",
    "\n",
    "        with mlflow.start_run():\n",
    "            predicted_qualitites = model.predict(test_x)\n",
    "\n",
    "            (accuracy , roc_auc) = self.eval_metrics(test_y , predicted_qualitites)\n",
    "\n",
    "            # Saving metrics as local\n",
    "            scores = {\"accuracy score\":accuracy, \"roc auc score\":roc_auc}\n",
    "            save_json(path = Path(self.config.metric_file_name),data = scores)\n",
    "\n",
    "            mlflow.log_params(self.config.all_params)\n",
    "\n",
    "            mlflow.log_metric('accuracy score',accuracy)\n",
    "            mlflow.log_metric('roc auc score',roc_auc)\n",
    "\n",
    "            # Model registry does not work with file store\n",
    "            if tracking_uri_type_store != 'file':\n",
    "\n",
    "                # Register the model\n",
    "                # There are other ways to use the model registry , which depends on the use case\n",
    "                # Please refer to the documentation for more information\n",
    "                # https://mlflow.org/docs/latest/model-registry.html #api-workflow\n",
    "                mlflow.sklearn.log_model(model,'model' , registered_model_name=\"RandomForestClassifier\")\n",
    "\n",
    "            else:\n",
    "                mlflow.sklearn.log_model(model,'model')\n"
   ]
  },
  {
   "cell_type": "code",
   "execution_count": 12,
   "id": "3566b7cf",
   "metadata": {},
   "outputs": [
    {
     "name": "stdout",
     "output_type": "stream",
     "text": [
      "[2023-08-13 21:37:09,872: INFO: common: yaml file: config\\config.yaml loaded successfully]\n",
      "[2023-08-13 21:37:09,877: INFO: common: yaml file: params.yaml loaded successfully]\n",
      "[2023-08-13 21:37:09,880: INFO: common: creating directory at: artifacts]\n",
      "[2023-08-13 21:37:09,882: INFO: common: creating directory at: artifacts/model_evaluation]\n",
      "[2023-08-13 21:37:10,504: INFO: common: json file saved at:{path}]\n"
     ]
    },
    {
     "name": "stderr",
     "output_type": "stream",
     "text": [
      "d:\\Python\\MLProjectsPW\\CreditCardFraud1\\env\\lib\\site-packages\\_distutils_hack\\__init__.py:18: UserWarning: Distutils was imported before Setuptools, but importing Setuptools also replaces the `distutils` module in `sys.modules`. This may lead to undesirable behaviors or errors. To avoid these issues, avoid using distutils directly, ensure that setuptools is installed in the traditional way (e.g. not an editable install), and/or make sure that setuptools is always imported before distutils.\n",
      "  warnings.warn(\n",
      "d:\\Python\\MLProjectsPW\\CreditCardFraud1\\env\\lib\\site-packages\\_distutils_hack\\__init__.py:33: UserWarning: Setuptools is replacing distutils.\n",
      "  warnings.warn(\"Setuptools is replacing distutils.\")\n",
      "Registered model 'RandomForestClassifier' already exists. Creating a new version of this model...\n",
      "2023/08/13 21:37:23 INFO mlflow.tracking._model_registry.client: Waiting up to 300 seconds for model version to finish creation. Model name: RandomForestClassifier, version 2\n",
      "Created version '2' of model 'RandomForestClassifier'.\n"
     ]
    }
   ],
   "source": [
    "try:\n",
    "    config = ConfigurationManager()\n",
    "    model_evaluation_config = config.get_model_evaluation_config()\n",
    "    model_evaluation = ModelEvaluation(config=model_evaluation_config)\n",
    "    model_evaluation.log_into_mlflow()\n",
    "except Exception as e:\n",
    "    raise e"
   ]
  },
  {
   "cell_type": "code",
   "execution_count": null,
   "id": "6457c805",
   "metadata": {},
   "outputs": [],
   "source": []
  }
 ],
 "metadata": {
  "kernelspec": {
   "display_name": "Python 3",
   "language": "python",
   "name": "python3"
  },
  "language_info": {
   "codemirror_mode": {
    "name": "ipython",
    "version": 3
   },
   "file_extension": ".py",
   "mimetype": "text/x-python",
   "name": "python",
   "nbconvert_exporter": "python",
   "pygments_lexer": "ipython3",
   "version": "3.8.0"
  }
 },
 "nbformat": 4,
 "nbformat_minor": 5
}
